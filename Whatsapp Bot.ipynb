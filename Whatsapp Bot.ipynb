{
 "cells": [
  {
   "cell_type": "markdown",
   "id": "45d6a25d",
   "metadata": {},
   "source": [
    "# Whatsapp BOT"
   ]
  },
  {
   "cell_type": "markdown",
   "id": "4a2e28c3",
   "metadata": {},
   "source": [
    "## Helper Functions"
   ]
  },
  {
   "cell_type": "code",
   "execution_count": null,
   "id": "e25e152c",
   "metadata": {},
   "outputs": [],
   "source": [
    "pip install selenium==3.141.0"
   ]
  },
  {
   "cell_type": "code",
   "execution_count": null,
   "id": "d27531dd",
   "metadata": {},
   "outputs": [],
   "source": [
    "pip install pyperclip"
   ]
  },
  {
   "cell_type": "code",
   "execution_count": null,
   "id": "67dd8d0d",
   "metadata": {},
   "outputs": [],
   "source": [
    "import time\n",
    "from selenium.common.exceptions import NoSuchElementException\n",
    "import pyperclip\n",
    "import time\n",
    "import pandas as pd"
   ]
  },
  {
   "cell_type": "code",
   "execution_count": null,
   "id": "62766a98",
   "metadata": {},
   "outputs": [],
   "source": [
    "def copy_image(path: str) -> None:\n",
    "    from io import BytesIO\n",
    "\n",
    "    import win32clipboard\n",
    "    from PIL import Image\n",
    "\n",
    "    image = Image.open(path)\n",
    "    output = BytesIO()\n",
    "    image.convert(\"RGB\").save(output, \"BMP\")\n",
    "    data = output.getvalue()[14:]\n",
    "    output.close()\n",
    "    win32clipboard.OpenClipboard()\n",
    "    win32clipboard.EmptyClipboard()\n",
    "    win32clipboard.SetClipboardData(win32clipboard.CF_DIB, data)\n",
    "    win32clipboard.CloseClipboard()"
   ]
  },
  {
   "cell_type": "code",
   "execution_count": null,
   "id": "f9e589d2",
   "metadata": {},
   "outputs": [],
   "source": [
    "def send_mssg_without_img(mssgs) :\n",
    "    for phone_no in phns :\n",
    "        driver.get('https://web.whatsapp.com/send?phone={}&text'.format(phone_no))\n",
    "        print(phone_no)\n",
    "        time.sleep(7)\n",
    "        print('Sending')\n",
    "        try:\n",
    "            msg_box = driver.find_element_by_xpath('//*[@id=\"main\"]/footer/div[1]/div/span[2]/div/div[2]/div[1]/div/div[2]')\n",
    "            \n",
    "            for m in mssgs:\n",
    "                msg_box.send_keys(m)\n",
    "                msg_box.send_keys(Keys.SHIFT + '\\n')\n",
    "                msg_box.send_keys(Keys.SHIFT + '\\n')\n",
    "                \n",
    "            driver.find_element_by_xpath('//*[@id=\"main\"]/footer/div[1]/div/span[2]/div/div[2]/div[2]/button').click()       \n",
    "    \n",
    "            time.sleep(5)\n",
    "        \n",
    "        except NoSuchElementException :\n",
    "            time.sleep(3)"
   ]
  },
  {
   "cell_type": "code",
   "execution_count": null,
   "id": "b52178e0",
   "metadata": {},
   "outputs": [],
   "source": [
    "def send_mssg_with_img(mssg,path) :\n",
    "\n",
    "    copy_image(path=path)\n",
    "    \n",
    "    for phone_no in phns :\n",
    "        driver.get('https://web.whatsapp.com/send?phone={}&text'.format(phone_no))\n",
    "        print(phone_no)\n",
    "        time.sleep(7)\n",
    "        print('Sending')\n",
    "        try:\n",
    "            msg_box = driver.find_element_by_xpath('//*[@id=\"main\"]/footer/div[1]/div/span[2]/div/div[2]/div[1]/div/div[2]')\n",
    "            for m in mssgs:\n",
    "                msg_box.send_keys(m)\n",
    "                msg_box.send_keys(Keys.SHIFT + '\\n')\n",
    "                msg_box.send_keys(Keys.SHIFT + '\\n')\n",
    "  \n",
    "            msg_box.send_keys(Keys.CONTROL+ \"v\")\n",
    "            time.sleep(5)\n",
    "            \n",
    "            driver.find_element_by_xpath('//*[@id=\"app\"]/div[1]/div[1]/div[2]/div[2]/span/div[1]/span/div[1]/div/div[2]/div/div[2]/div[2]/div/div').click()\n",
    "        \n",
    "            time.sleep(5)\n",
    "        except NoSuchElementException :\n",
    "            failed = failed + 1\n",
    "            time.sleep(3)"
   ]
  },
  {
   "cell_type": "markdown",
   "id": "1b101685",
   "metadata": {},
   "source": [
    "### For Login"
   ]
  },
  {
   "cell_type": "code",
   "execution_count": null,
   "id": "66f013d8",
   "metadata": {},
   "outputs": [],
   "source": [
    "from selenium import webdriver\n",
    "from selenium.webdriver.common.keys import Keys\n",
    "\n",
    "driver = webdriver.Chrome()\n",
    "\n",
    "driver.get('https://web.whatsapp.com/send?phone=+917003406417&text')"
   ]
  },
  {
   "cell_type": "markdown",
   "id": "f6464c2a",
   "metadata": {},
   "source": [
    "### For getting data"
   ]
  },
  {
   "cell_type": "code",
   "execution_count": null,
   "id": "f0ad7045",
   "metadata": {},
   "outputs": [],
   "source": [
    "df_in = pd.read_excel('.\\College data.xlsx')   #change to name of file\n",
    "\n",
    "phns = df_in['Contacts'].to_list()          #change to column name with contact numbers\n",
    "names = df_in['Name']         #change to column name with names. Remove or comment this line if personalization not required"
   ]
  },
  {
   "cell_type": "markdown",
   "id": "64deac2f",
   "metadata": {},
   "source": [
    "### Creating the Message"
   ]
  },
  {
   "cell_type": "markdown",
   "id": "347e7d24",
   "metadata": {},
   "source": [
    "Write the messgage to be sent. Different lines in the message should be written as different elements of the list."
   ]
  },
  {
   "cell_type": "code",
   "execution_count": null,
   "id": "9a9dc42f",
   "metadata": {},
   "outputs": [],
   "source": [
    "mssg = ['Hello! Nice to meet you','This is a sample message from the bot']"
   ]
  },
  {
   "cell_type": "markdown",
   "id": "962ee244",
   "metadata": {},
   "source": [
    "### Sending Messages"
   ]
  },
  {
   "cell_type": "code",
   "execution_count": null,
   "id": "ab15cf7a",
   "metadata": {},
   "outputs": [],
   "source": [
    "send_mssg_without_img(mssg)"
   ]
  },
  {
   "cell_type": "code",
   "execution_count": null,
   "id": "f266571a",
   "metadata": {},
   "outputs": [],
   "source": [
    "path = '.\\\\feb AC post.png'    #Enter path of the image file\n",
    "\n",
    "send_mssg_with_img(mssg, path)"
   ]
  },
  {
   "cell_type": "code",
   "execution_count": null,
   "id": "e753d6b2",
   "metadata": {},
   "outputs": [],
   "source": []
  }
 ],
 "metadata": {
  "kernelspec": {
   "display_name": "Python 3 (ipykernel)",
   "language": "python",
   "name": "python3"
  },
  "language_info": {
   "codemirror_mode": {
    "name": "ipython",
    "version": 3
   },
   "file_extension": ".py",
   "mimetype": "text/x-python",
   "name": "python",
   "nbconvert_exporter": "python",
   "pygments_lexer": "ipython3",
   "version": "3.9.7"
  }
 },
 "nbformat": 4,
 "nbformat_minor": 5
}
